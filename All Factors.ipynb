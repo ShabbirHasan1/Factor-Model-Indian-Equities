{
 "cells": [
  {
   "cell_type": "code",
   "execution_count": 1,
   "metadata": {},
   "outputs": [],
   "source": [
    "import pandas as pd\n",
    "import numpy as np\n",
    "from nsepy import get_history\n",
    "import datetime\n",
    "from datetime import date, timedelta, datetime\n",
    "import matplotlib.pyplot as plt\n",
    "import time\n",
    "from dateutil.relativedelta import relativedelta\n",
    "from datetime import date"
   ]
  },
  {
   "cell_type": "code",
   "execution_count": 2,
   "metadata": {},
   "outputs": [],
   "source": [
    "def index_to_date(bt_data):\n",
    "    new_index = []\n",
    "    for index in bt_data.index:\n",
    "        temp = index.to_pydatetime().date()\n",
    "        new_index.append(temp)\n",
    "    bt_data.index = new_index\n",
    "    return bt_data\n",
    "\n",
    "def nearest(items, pivot):\n",
    "    return min(items, key=lambda x: abs(x - pivot))"
   ]
  },
  {
   "cell_type": "code",
   "execution_count": 3,
   "metadata": {},
   "outputs": [],
   "source": [
    "def hist_data(factor):\n",
    "    \n",
    "    if factor == \"Momentum\" or factor == \"momentum\" or factor == \"m\":\n",
    "        bt_data = pd.read_excel(r\"Nifty200DailyReturns.xlsx\", sheet_name = \"Nifty 200 Return-16 Year\")[1:]\n",
    "        bt_data.set_index(\"Date\", inplace = True)\n",
    "        bt_data = index_to_date(bt_data)\n",
    "        \n",
    "    if factor == \"Beta\" or factor == \"beta\" or factor == \"b\":\n",
    "        daily_p = pd.read_excel(r\"Nifty200DailyReturns.xlsx\", sheet_name = \"BBG-Nifty 200 Prices-16 Year\").iloc[:,1:]\n",
    "        \n",
    "        new_header = daily_p.iloc[0] \n",
    "        daily_p = daily_p[1:]\n",
    "        daily_p.columns = new_header\n",
    "        daily_p.set_index(\"Date\", inplace = True)\n",
    "\n",
    "        weekly_p = daily_p.resample('W').last()\n",
    "        weekly_r = weekly_p.pct_change()[1:]\n",
    "        bt_data = weekly_r\n",
    "        bt_data = index_to_date(bt_data)\n",
    "        \n",
    "    if factor == \"BetaNifty\" or factor == \"betanifty\" or factor == \"bn\":\n",
    "        daily_p = pd.read_excel(r\"Nifty200DailyReturns.xlsx\", sheet_name = \"Nifty 50 Index Prices-16 Year\").iloc[:,1:]\n",
    "        \n",
    "        new_header = daily_p.iloc[0] \n",
    "        daily_p = daily_p[1:]\n",
    "        daily_p.columns = new_header\n",
    "        daily_p.set_index(\"Date\", inplace = True)\n",
    "\n",
    "        weekly_p = daily_p.resample('W').last()\n",
    "        weekly_r = weekly_p.pct_change()[1:]\n",
    "        bt_data = weekly_r\n",
    "        bt_data = index_to_date(bt_data)\n",
    "        \n",
    "    if factor == \"nifty\" or factor == \"Nifty\":\n",
    "        bt_data = pd.read_excel(r\"Nifty200DailyReturns.xlsx\", sheet_name = \"Nifty 50 Index Return-16 Year\")[1:]\n",
    "        bt_data.set_index(\"Date\", inplace = True)\n",
    "        bt_data = index_to_date(bt_data)\n",
    "        \n",
    "    if factor == \"volatility\" or factor == \"Volatility\" or factor == \"vol\":\n",
    "        bt_data = pd.read_excel(r\"Nifty200DailyReturns.xlsx\", sheet_name = \"Nifty 200 Return-16 Year\")[1:]\n",
    "        bt_data.set_index(\"Date\", inplace = True)\n",
    "        bt_data = index_to_date(bt_data)\n",
    "    return bt_data"
   ]
  },
  {
   "cell_type": "code",
   "execution_count": 4,
   "metadata": {},
   "outputs": [],
   "source": [
    "all_data_momentum = hist_data(\"Momentum\")\n",
    "all_data_volatility = hist_data(\"Volatility\")\n",
    "all_data_beta = hist_data(\"Beta\")\n",
    "all_data_beta_nifty = hist_data(\"BetaNifty\")"
   ]
  },
  {
   "cell_type": "code",
   "execution_count": 5,
   "metadata": {},
   "outputs": [],
   "source": [
    "winsorize_pct = 0.02"
   ]
  },
  {
   "cell_type": "code",
   "execution_count": 235,
   "metadata": {},
   "outputs": [
    {
     "data": {
      "text/plain": [
       "datetime.date(2020, 3, 1)"
      ]
     },
     "execution_count": 235,
     "metadata": {},
     "output_type": "execute_result"
    }
   ],
   "source": [
    "portfolio_date = (datetime.today().date() - timedelta(days = 360)).replace(day=1)\n",
    "portfolio_date"
   ]
  },
  {
   "cell_type": "code",
   "execution_count": 236,
   "metadata": {},
   "outputs": [],
   "source": [
    "def outliers(final_df, factor):\n",
    "    if factor == \"Momentum\" or factor == \"momentum\" or factor == \"m\":\n",
    "        y = final_df['Momentum']\n",
    "        outliers_downside = y.between(y.quantile(0), y.quantile(winsorize_pct))\n",
    "        outliers_upside = y.between(y.quantile(1-winsorize_pct), y.quantile(1))\n",
    "        low_cutoff_percentile_momentum = y.quantile(winsorize_pct)\n",
    "        high_cutoff_percentile_momentum = y.quantile(1-winsorize_pct)\n",
    "        outliers_downside_index = final_df[outliers_downside].index\n",
    "        outliers_upside_index = final_df[outliers_upside].index\n",
    "        for ind in outliers_downside_index:\n",
    "            final_df.loc[ind, \"Momentum\"] = low_cutoff_percentile_momentum\n",
    "        for ind in outliers_upside_index:\n",
    "            final_df.loc[ind, \"Momentum\"] = high_cutoff_percentile_momentum\n",
    "        \n",
    "    if factor == \"volatility\" or factor == \"Volatility\" or factor == \"vol\":\n",
    "        y = final_df[\"Volatility\"]\n",
    "        outliers_downside = y.between(y.quantile(0), y.quantile(winsorize_pct))\n",
    "        outliers_upside = y.between(y.quantile(1-winsorize_pct), y.quantile(1))\n",
    "        low_cutoff_percentile_volatility = y.quantile(winsorize_pct)\n",
    "        high_cutoff_percentile_volatility = y.quantile(1-winsorize_pct)\n",
    "        outliers_downside_index = final_df[outliers_downside].index\n",
    "        outliers_upside_index = final_df[outliers_upside].index\n",
    "        for ind in outliers_downside_index:\n",
    "            final_df.loc[ind, \"Volatility\"] = low_cutoff_percentile_volatility\n",
    "        for ind in outliers_upside_index:\n",
    "            final_df.loc[ind, \"Volatility\"] = high_cutoff_percentile_volatility        \n",
    "\n",
    "    if factor == \"beta\" or factor == \"Beta\":\n",
    "        y = final_df[\"Beta\"]\n",
    "        outliers_downside = y.between(y.quantile(0), y.quantile(winsorize_pct))\n",
    "        outliers_upside = y.between(y.quantile(1-winsorize_pct), y.quantile(1))\n",
    "        low_cutoff_percentile_beta = y.quantile(winsorize_pct)\n",
    "        high_cutoff_percentile_beta = y.quantile(1-winsorize_pct)\n",
    "        outliers_downside_index = final_df[outliers_downside].index\n",
    "        outliers_upside_index = final_df[outliers_upside].index\n",
    "        for ind in outliers_downside_index:\n",
    "            final_df.loc[ind, \"Beta\"] = low_cutoff_percentile_beta\n",
    "        for ind in outliers_upside_index:\n",
    "            final_df.loc[ind, \"Beta\"] = high_cutoff_percentile_beta                \n",
    "            \n",
    "    return final_df"
   ]
  },
  {
   "cell_type": "code",
   "execution_count": 237,
   "metadata": {},
   "outputs": [],
   "source": [
    "def score(final_df):\n",
    "    score = []\n",
    "    for i in range(len(final_df)):\n",
    "        if final_df.iloc[i][\"Zscore\"] >= 0:\n",
    "            score.append(1 + final_df.iloc[i][\"Zscore\"])\n",
    "        elif final_df.iloc[i][\"Zscore\"] < 0:\n",
    "            score.append((1 - final_df.iloc[i][\"Zscore\"])**(-1))\n",
    "        else:\n",
    "            score.append(np.nan)\n",
    "    return score"
   ]
  },
  {
   "cell_type": "code",
   "execution_count": 238,
   "metadata": {},
   "outputs": [],
   "source": [
    "def get_relevant_returns(factor, all_data):\n",
    "    if factor == \"Momentum\":\n",
    "        rvrsl_prd = 1\n",
    "        relevant_end_date = nearest(all_data.index,(portfolio_date - pd.DateOffset(months=rvrsl_prd)).to_pydatetime().date())\n",
    "        relevant_start_date = nearest(all_data.index, (portfolio_date - pd.DateOffset(months=12)).to_pydatetime().date())\n",
    "        relevant_returns = all_data.loc[relevant_start_date:relevant_end_date]\n",
    "        \n",
    "    if factor == \"Volatility\":\n",
    "        relevant_start_date = nearest(all_data.index,(portfolio_date - pd.DateOffset(years=2)).to_pydatetime().date())\n",
    "        relevant_end_date = nearest(all_data.index, (portfolio_date))\n",
    "        relevant_returns = all_data.loc[(all_data.index>relevant_start_date)&(all_data.index<relevant_end_date)]\n",
    "        \n",
    "    if factor == \"Beta\":\n",
    "        relevant_start_date = nearest(all_data.index,(portfolio_date - pd.DateOffset(years=1)).to_pydatetime().date())\n",
    "        relevant_end_date = nearest(all_data.index, (portfolio_date))\n",
    "        relevant_returns = all_data.loc[(all_data.index>relevant_start_date)&(all_data.index<relevant_end_date)]\n",
    "        \n",
    "    return relevant_returns"
   ]
  },
  {
   "cell_type": "code",
   "execution_count": 239,
   "metadata": {},
   "outputs": [],
   "source": [
    "def factor_calculation(factor, relevant_returns, bt_data):\n",
    "    if factor == \"Momentum\":\n",
    "        df_cum_returns = pd.DataFrame(columns = relevant_returns.columns)\n",
    "        for ticker in relevant_returns.columns:\n",
    "            df_cum_returns[ticker] = (1 + relevant_returns[ticker]).cumprod() - 1\n",
    "        cumulative_returns = df_cum_returns[-1:].T\n",
    "        all_sd = relevant_returns.std().dropna()\n",
    "        all_sd = all_sd[~(all_sd == 0)].dropna()\n",
    "        all_sd = all_sd.to_frame()\n",
    "        all_sd = all_sd.reset_index().rename(columns = {\"index\" : \"Company\"})\n",
    "        all_sd = all_sd.set_index(\"Company\")\n",
    "        all_sd[\"Ann SD\"] = all_sd*np.sqrt(252)\n",
    "\n",
    "        final_df = pd.merge(all_sd,cumulative_returns, left_index=True, right_index=True)\n",
    "        columns = [\"Daily SD\", \"Ann SD\", \"Cumulative Returns (12-1)\"]\n",
    "        final_df.columns = columns\n",
    "        final_df[\"Momentum\"] = final_df[\"Cumulative Returns (12-1)\"]/final_df[\"Ann SD\"]\n",
    "    \n",
    "    if factor == \"Volatility\":\n",
    "        date_yr_ago = []\n",
    "        for i in range(len(bt_data.index)):\n",
    "            date_yr_ago.append(nearest(bt_data.index, bt_data.index[i] - relativedelta(days=365)))\n",
    "        for i in range(len(relevant_returns)):\n",
    "            if (relevant_returns.index[i] - date_yr_ago[i]).days > 363:\n",
    "                relevant_index = i\n",
    "                break\n",
    "        calc_start_date = date_yr_ago[i]\n",
    "        calc_end_date = relevant_returns.index[i-1]\n",
    "        relevant_data_for_calc = relevant_returns.iloc[relevant_index:]\n",
    "        cum_ret_df = pd.DataFrame(columns = relevant_data_for_calc.columns, index = relevant_data_for_calc.index)\n",
    "        calc_start_dates = []\n",
    "        calc_end_dates = []\n",
    "        for i in range(len(relevant_data_for_calc)):\n",
    "            calc_start_date = nearest(relevant_returns.index, (relevant_data_for_calc.index[i] - relativedelta(days = 365)))\n",
    "            calc_end_date = relevant_data_for_calc.index[i]\n",
    "            calc_start_dates.append(calc_start_date)\n",
    "            calc_end_dates.append(calc_end_date)\n",
    "        for i in range(len(cum_ret_df)):\n",
    "            curr_date = cum_ret_df.index[i]\n",
    "            cum_ret_df.loc[curr_date] = (((1 + relevant_returns[calc_start_dates[i]: calc_end_dates[i]]).cumprod() - 1)[-1:].values)\n",
    "        final_df = pd.DataFrame(index = cum_ret_df.columns, columns = [\"Max\", \"Min\", \"Volatility\"])\n",
    "        for i in cum_ret_df.columns:\n",
    "            final_df.loc[i][\"Max\"] = cum_ret_df[i].max()\n",
    "            final_df.loc[i][\"Min\"] = cum_ret_df[i].min()\n",
    "            final_df.loc[i][\"Volatility\"] = final_df.loc[i][\"Max\"] - final_df.loc[i][\"Min\"]\n",
    "        final_df[\"StdDev\"] = np.std(bt_data.iloc[relevant_index:])\n",
    "        \n",
    "    if factor == \"Beta\":\n",
    "        print(\"Change function call, special function for beta calculation\")\n",
    "    return final_df"
   ]
  },
  {
   "cell_type": "code",
   "execution_count": 240,
   "metadata": {},
   "outputs": [],
   "source": [
    "def z_score(factor, final_df):\n",
    "    final_df[\"Zscore\"] = (final_df[factor] - final_df[factor].mean())/final_df[factor].std(ddof=0)\n",
    "    return final_df"
   ]
  },
  {
   "cell_type": "code",
   "execution_count": 241,
   "metadata": {},
   "outputs": [],
   "source": [
    "def rank_calculation(factor, score, final_df):\n",
    "    if factor == \"Momentum\":\n",
    "        final_df.rename(columns = {\"Zscore\": \"Momentum ZScore\"}, inplace = True)\n",
    "        final_df[\"Momentum Score\"] = score\n",
    "        final_df[\"Momentum Rank\"] = final_df[\"Momentum Score\"].rank(ascending = False)\n",
    "        final_df.sort_values(by = [\"Momentum Rank\",\"Cumulative Returns (12-1)\"], ascending=[True,False],inplace = True)\n",
    "        \n",
    "    if factor == \"Volatility\":\n",
    "        final_df.rename(columns = {\"Zscore\": \"Volatility ZScore\"}, inplace = True)\n",
    "        final_df[\"Volatility Score\"] = score\n",
    "        final_df[\"Vol_Rank\"] = final_df[\"Volatility Score\"].rank(ascending=True)\n",
    "        final_df[\"Std_Rank\"] = final_df[\"StdDev\"].rank(ascending=True)\n",
    "        final_df['Average']= (final_df['Vol_Rank']+final_df['Std_Rank'])/2\n",
    "        final_df.sort_values(by = \"Average\", inplace = True)\n",
    "    \n",
    "    if factor == \"Beta\":\n",
    "        final_df.rename(columns = {\"Zscore\": \"Beta ZScore\"}, inplace = True)\n",
    "        final_df[\"Beta Score\"] = score\n",
    "        final_df.dropna(how='any', inplace = True)\n",
    "        final_df[\"Beta Rank\"] = final_df[\"Beta Score\"].rank(ascending = False)\n",
    "        final_df.sort_values(by = [\"Beta Rank\"], ascending=[False],inplace = True) ##Set false for low beta\n",
    "    \n",
    "    return final_df"
   ]
  },
  {
   "cell_type": "code",
   "execution_count": 242,
   "metadata": {},
   "outputs": [],
   "source": [
    "def nifty_beta_calculation(relevant_returns, all_data_nifty):\n",
    "    relevant_start_date = relevant_returns.index[0]\n",
    "    relevant_end_date = relevant_returns.index[-1]\n",
    "    relevant_nifty_data = all_data_nifty.loc[(all_data_nifty.index>=relevant_start_date)&(all_data_nifty.index<=relevant_end_date)]\n",
    "    beta_df = pd.DataFrame(index = relevant_nifty_data.columns, columns = [\"Beta\"])\n",
    "    beta_dict = {}\n",
    "    for company in relevant_returns.columns:\n",
    "        beta_dict[company] =  pd.merge(relevant_returns[company], relevant_nifty_data, left_index=True, right_index= True)\n",
    "        beta_df.loc[company] = beta_dict[company].cov()[company][\"NIFTY INDEX\"]/beta_dict[company].cov()[\"NIFTY INDEX\"][\"NIFTY INDEX\"]\n",
    "    final_df = beta_df.reset_index().rename(columns={0:\"Company\"}).set_index(\"Company\")\n",
    "    final_df = final_df[1:]\n",
    "    final_df[\"Beta\"] = abs(final_df[\"Beta\"])\n",
    "    return final_df"
   ]
  },
  {
   "cell_type": "code",
   "execution_count": 243,
   "metadata": {},
   "outputs": [],
   "source": [
    "def normalization_multi_factor(factor, final_df, dir):\n",
    "    var = factor + \" Score\"\n",
    "    if dir == \"HTB\":\n",
    "        final_df[var] = (final_df[var]-final_df[var].min())/(final_df[var].max()-final_df[var].min())\n",
    "    if dir == \"LTB\":\n",
    "        final_df[var] = (final_df[var].max() - final_df[var])/(final_df[var].max()-final_df[var].min())\n",
    "        \n",
    "    return final_df"
   ]
  },
  {
   "cell_type": "code",
   "execution_count": 244,
   "metadata": {},
   "outputs": [],
   "source": [
    "def merge_multi_factor(final_df1, final_df2, factor_1, factor_2):\n",
    "    final_df = pd.concat([final_df1,final_df2],axis = 1)\n",
    "    var_1 = factor_1 + \" Score\"\n",
    "    var_2 = factor_2 + \" Score\"\n",
    "    final_df[\"Final Score\"] = (final_df[var_1] + final_df[var_2]) / 2\n",
    "    final_df[\"Rank\"] = final_df[\"Final Score\"].rank(ascending = False)\n",
    "    final_df.sort_values(by = \"Rank\", inplace = True)\n",
    "    \n",
    "    return final_df"
   ]
  },
  {
   "cell_type": "code",
   "execution_count": 245,
   "metadata": {},
   "outputs": [],
   "source": [
    "def momentum():\n",
    "    factor = \"Momentum\"\n",
    "    all_data = all_data_momentum\n",
    "    relevant_returns = get_relevant_returns(factor, all_data)\n",
    "    final_df = factor_calculation(factor,relevant_returns, all_data)\n",
    "    final_df = outliers(final_df, factor)\n",
    "    final_df = z_score(factor, final_df)\n",
    "    momentum_score = score(final_df)\n",
    "    final_df = rank_calculation(factor, momentum_score, final_df)        \n",
    "    \n",
    "    return final_df\n",
    "\n",
    "def volatility():\n",
    "    factor = \"Volatility\"\n",
    "    all_data = all_data_volatility\n",
    "    relevant_returns = get_relevant_returns(factor, all_data)\n",
    "    final_df = factor_calculation(factor,relevant_returns, all_data)\n",
    "    final_df = outliers(final_df, factor)\n",
    "    final_df = z_score(factor, final_df)\n",
    "    momentum_score = score(final_df)\n",
    "    final_df = rank_calculation(factor, momentum_score, final_df)        \n",
    "    \n",
    "    return final_df\n",
    "\n",
    "def beta():\n",
    "    final_daily_portfolio_returns = pd.DataFrame()\n",
    "    factor = \"Beta\"\n",
    "    all_data = all_data_beta\n",
    "    all_data_nifty = all_data_beta_nifty\n",
    "    relevant_returns = get_relevant_returns(factor, all_data)\n",
    "    final_df = nifty_beta_calculation(relevant_returns, all_data_nifty)\n",
    "    final_df = outliers(final_df, factor)\n",
    "    final_df = z_score(factor, final_df)\n",
    "    beta_score = score(final_df)\n",
    "    final_df = rank_calculation(factor, beta_score, final_df)\n",
    "    \n",
    "    return final_df\n",
    "\n",
    "def momentum_volatility():\n",
    "    factor_1 = \"Momentum\"\n",
    "    factor_2 = \"Volatility\"\n",
    "    all_data_1 = all_data_momentum\n",
    "    all_data_2 = all_data_volatility\n",
    "\n",
    "    relevant_returns = get_relevant_returns(factor_1, all_data_1)        \n",
    "    final_df = factor_calculation(factor_1,relevant_returns, all_data_1)\n",
    "    final_df = outliers(final_df, factor_1)\n",
    "    final_df = z_score(factor_1, final_df)\n",
    "    momentum_score = score(final_df)\n",
    "    final_df_1 = rank_calculation(factor_1, momentum_score, final_df)\n",
    "    final_df_1 = normalization_multi_factor(factor_1, final_df_1, \"HTB\")               #HTB=Higher the better\n",
    "\n",
    "    relevant_returns = get_relevant_returns(factor_2, all_data_2)  \n",
    "    final_df = factor_calculation(factor_2,relevant_returns, all_data_2)\n",
    "    final_df = outliers(final_df, factor_2)\n",
    "    final_df = z_score(factor_2, final_df)\n",
    "    volatility_score = score(final_df)\n",
    "    final_df_2 = rank_calculation(factor_2, volatility_score, final_df)\n",
    "    final_df_2 = normalization_multi_factor(factor_2, final_df_2, \"LTB\")\n",
    "\n",
    "    final_df = merge_multi_factor(final_df_1,final_df_2, factor_1, factor_2)\n",
    "    \n",
    "    return final_df\n",
    "\n",
    "def momentum_beta():\n",
    "    factor_1 = \"Momentum\"\n",
    "    factor_2 = \"Beta\"\n",
    "    all_data_1 = all_data_momentum\n",
    "    all_data_2 = all_data_beta\n",
    "    all_data_nifty = all_data_beta_nifty\n",
    "    \n",
    "    relevant_returns = get_relevant_returns(factor_1, all_data_1)        \n",
    "    final_df = factor_calculation(factor_1,relevant_returns, all_data_1)\n",
    "    final_df = outliers(final_df, factor_1)\n",
    "    final_df = z_score(factor_1, final_df)\n",
    "    momentum_score = score(final_df)\n",
    "    final_df_1 = rank_calculation(factor_1, momentum_score, final_df)\n",
    "    final_df_1 = normalization_multi_factor(factor_1, final_df_1, \"HTB\")               #HTB=Higher the better\n",
    "\n",
    "    relevant_returns = get_relevant_returns(factor_2, all_data_2)\n",
    "    final_df = nifty_beta_calculation(relevant_returns, all_data_nifty)\n",
    "    final_df = outliers(final_df, factor_2)\n",
    "    final_df = z_score(factor_2, final_df)\n",
    "    beta_score = score(final_df)\n",
    "    final_df_2 = rank_calculation(factor_2, beta_score, final_df)\n",
    "    final_df_2 = normalization_multi_factor(factor_2, final_df_2, \"LTB\")\n",
    "\n",
    "    final_df = merge_multi_factor(final_df_1,final_df_2, factor_1, factor_2)\n",
    "    \n",
    "    return final_df\n",
    "\n",
    "def volatility_beta():\n",
    "    factor_1 = \"Volatility\"\n",
    "    factor_2 = \"Beta\"\n",
    "    all_data_1 = all_data_volatility\n",
    "    all_data_2 = all_data_beta\n",
    "    all_data_nifty = all_data_beta_nifty\n",
    "    \n",
    "    relevant_returns = get_relevant_returns(factor_1, all_data_1)        \n",
    "    final_df = factor_calculation(factor_1,relevant_returns, all_data_1)\n",
    "    final_df = outliers(final_df, factor_1)\n",
    "    final_df = z_score(factor_1, final_df)\n",
    "    volatility_score = score(final_df)\n",
    "    final_df_1 = rank_calculation(factor_1, volatility_score, final_df)\n",
    "    final_df_1 = normalization_multi_factor(factor_1, final_df_1, \"LTB\")               #LTB=lower the better\n",
    "\n",
    "    relevant_returns = get_relevant_returns(factor_2, all_data_2)\n",
    "    final_df = nifty_beta_calculation(relevant_returns, all_data_nifty)\n",
    "    final_df = outliers(final_df, factor_2)\n",
    "    final_df = z_score(factor_2, final_df)\n",
    "    beta_score = score(final_df)\n",
    "    final_df_2 = rank_calculation(factor_2, beta_score, final_df)\n",
    "    final_df_2 = normalization_multi_factor(factor_2, final_df_2, \"LTB\")\n",
    "\n",
    "    final_df = merge_multi_factor(final_df_1,final_df_2, factor_1, factor_2)\n",
    "    \n",
    "    return final_df"
   ]
  },
  {
   "cell_type": "code",
   "execution_count": 246,
   "metadata": {
    "scrolled": true
   },
   "outputs": [],
   "source": [
    "momentum_port = momentum()"
   ]
  },
  {
   "cell_type": "code",
   "execution_count": 247,
   "metadata": {
    "scrolled": true
   },
   "outputs": [],
   "source": [
    "volatility_port = volatility()"
   ]
  },
  {
   "cell_type": "code",
   "execution_count": 248,
   "metadata": {
    "scrolled": true
   },
   "outputs": [],
   "source": [
    "beta_port = beta()"
   ]
  },
  {
   "cell_type": "code",
   "execution_count": 249,
   "metadata": {
    "scrolled": true
   },
   "outputs": [],
   "source": [
    "momentum_volatility_port = momentum_volatility()"
   ]
  },
  {
   "cell_type": "code",
   "execution_count": 250,
   "metadata": {
    "scrolled": true
   },
   "outputs": [],
   "source": [
    "momentum_beta_port = momentum_beta()"
   ]
  },
  {
   "cell_type": "code",
   "execution_count": 251,
   "metadata": {
    "scrolled": true
   },
   "outputs": [],
   "source": [
    "volatility_beta_port = volatility_beta()"
   ]
  },
  {
   "cell_type": "code",
   "execution_count": 252,
   "metadata": {},
   "outputs": [],
   "source": [
    "momentum_port.to_excel(r\"momentum_port_{}.xlsx\".format(portfolio_date))\n",
    "volatility_port.to_excel(r\"volatility_port_{}.xlsx\".format(portfolio_date))\n",
    "beta_port.to_excel(r\"beta_port_{}.xlsx\".format(portfolio_date))\n",
    "momentum_volatility_port.to_excel(r\"momentum_volatility_port_{}.xlsx\".format(portfolio_date))\n",
    "momentum_beta_port.to_excel(r\"momentum_beta_port_{}.xlsx\".format(portfolio_date))\n",
    "volatility_beta_port.to_excel(r\"volatility_beta_port_{}.xlsx\".format(portfolio_date))"
   ]
  },
  {
   "cell_type": "code",
   "execution_count": null,
   "metadata": {},
   "outputs": [],
   "source": []
  }
 ],
 "metadata": {
  "kernelspec": {
   "display_name": "Python 3",
   "language": "python",
   "name": "python3"
  },
  "language_info": {
   "codemirror_mode": {
    "name": "ipython",
    "version": 3
   },
   "file_extension": ".py",
   "mimetype": "text/x-python",
   "name": "python",
   "nbconvert_exporter": "python",
   "pygments_lexer": "ipython3",
   "version": "3.8.5"
  }
 },
 "nbformat": 4,
 "nbformat_minor": 4
}
